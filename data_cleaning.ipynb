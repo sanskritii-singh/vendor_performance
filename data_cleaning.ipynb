{
 "cells": [
  {
   "cell_type": "code",
   "execution_count": 6,
   "id": "cedbb0e7-19ff-4544-93c9-5e913e4fbff7",
   "metadata": {},
   "outputs": [],
   "source": [
    "import pandas as pd\n",
    "import os\n",
    "from sqlalchemy import create_engine\n",
    "import logging\n",
    "import time"
   ]
  },
  {
   "cell_type": "code",
   "execution_count": 7,
   "id": "bd5dc642-36cd-4aa7-b003-ab89d418074a",
   "metadata": {},
   "outputs": [],
   "source": [
    "logging.basicConfig(\n",
    "    filename=\"logs/ingestion_db.log\",\n",
    "    level=logging.DEBUG,\n",
    "    format='%(asctime)s - %(levelname)s - %(message)s',\n",
    "    filemode='a'\n",
    ")\n"
   ]
  },
  {
   "cell_type": "code",
   "execution_count": 2,
   "id": "29ae4c19-0a09-4517-9eb6-c419c292c169",
   "metadata": {},
   "outputs": [],
   "source": [
    "engine = create_engine('sqlite:///inventory.db')"
   ]
  },
  {
   "cell_type": "code",
   "execution_count": 8,
   "id": "34c6a8ae-fba6-4379-98c7-e6b093cb6556",
   "metadata": {},
   "outputs": [],
   "source": [
    "def ingest_db(df, table_name, engine, chunk_size=1000):\n",
    "    '''this function will ingest the dataframe into database table'''\n",
    "    try:\n",
    "        df.to_sql(\n",
    "            table_name,\n",
    "            con=engine,\n",
    "            if_exists='replace',\n",
    "            index=False,\n",
    "            chunksize=chunk_size,\n",
    "            method='multi'  # optional: speeds up insert for supported DBs\n",
    "        )\n",
    "        print(f\"✅ Data ingested into {table_name} table.\")\n",
    "    except Exception as e:\n",
    "        print(f\"❌ Failed to ingest {table_name}: {e}\")"
   ]
  },
  {
   "cell_type": "code",
   "execution_count": 9,
   "id": "bc20a742-7d72-42f4-9653-9d91008baf4e",
   "metadata": {},
   "outputs": [],
   "source": [
    "def load_raw_data():\n",
    "    '''this function will load the CSVs as dataframe and ingest into db'''\n",
    "    start = time.time()\n",
    "    for file in os.listdir('data'):\n",
    "        if '.csv' in file:\n",
    "            df = pd.read_csv(os.path.join('data', file))\n",
    "            logging.info(f'Ingesting {file} in db')\n",
    "            ingest_db(df, file.split('.')[0], engine)\n",
    "        end = time.time()\n",
    "        total_time = (end - start)/60\n",
    "        logging.info('--------------Ingestion Complete---------------')\n",
    "        logging.info(f'Total Time Taken: {total_time} minutes')"
   ]
  },
  {
   "cell_type": "code",
   "execution_count": 10,
   "id": "142b4db0-c96a-4f1c-b2be-6f185cc68604",
   "metadata": {},
   "outputs": [
    {
     "name": "stdout",
     "output_type": "stream",
     "text": [
      "✅ Data ingested into begin_inventory table.\n",
      "✅ Data ingested into end_inventory table.\n",
      "✅ Data ingested into purchases table.\n",
      "✅ Data ingested into purchase_prices table.\n",
      "✅ Data ingested into sales table.\n",
      "✅ Data ingested into vendor_invoice table.\n"
     ]
    }
   ],
   "source": [
    "if __name__ == '__main__':\n",
    "    load_raw_data()"
   ]
  },
  {
   "cell_type": "code",
   "execution_count": null,
   "id": "6cf72f8e-063e-4257-b836-ca28fde1439c",
   "metadata": {},
   "outputs": [],
   "source": []
  }
 ],
 "metadata": {
  "kernelspec": {
   "display_name": "Python 3 (ipykernel)",
   "language": "python",
   "name": "python3"
  },
  "language_info": {
   "codemirror_mode": {
    "name": "ipython",
    "version": 3
   },
   "file_extension": ".py",
   "mimetype": "text/x-python",
   "name": "python",
   "nbconvert_exporter": "python",
   "pygments_lexer": "ipython3",
   "version": "3.12.4"
  }
 },
 "nbformat": 4,
 "nbformat_minor": 5
}
